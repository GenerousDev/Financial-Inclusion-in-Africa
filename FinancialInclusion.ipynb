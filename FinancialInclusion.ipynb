{
 "metadata": {
  "language_info": {
   "codemirror_mode": {
    "name": "ipython",
    "version": 3
   },
   "file_extension": ".py",
   "mimetype": "text/x-python",
   "name": "python",
   "nbconvert_exporter": "python",
   "pygments_lexer": "ipython3",
   "version": "3.8.5-final"
  },
  "orig_nbformat": 2,
  "kernelspec": {
   "name": "python3",
   "display_name": "Python 3",
   "language": "python"
  }
 },
 "nbformat": 4,
 "nbformat_minor": 2,
 "cells": [
  {
   "source": [
    "# Import python libraries for data visualization and manupulation\n"
   ],
   "cell_type": "markdown",
   "metadata": {}
  },
  {
   "cell_type": "code",
   "execution_count": 1,
   "metadata": {},
   "outputs": [],
   "source": [
    "import numpy as np\n",
    "import pandas as pd \n",
    "import matplotlib.pyplot as pyplot \n",
    "import seaborn as sb    "
   ]
  },
  {
   "source": [
    "# Read the Train and Test File Since they are in CSV"
   ],
   "cell_type": "markdown",
   "metadata": {}
  },
  {
   "cell_type": "code",
   "execution_count": 2,
   "metadata": {},
   "outputs": [],
   "source": [
    "Train = pd.read_csv('Train_v2.csv')\n",
    "Test = pd.read_csv('Test_v2.csv')"
   ]
  },
  {
   "cell_type": "code",
   "execution_count": 3,
   "metadata": {},
   "outputs": [
    {
     "output_type": "execute_result",
     "data": {
      "text/plain": [
       "                uniqueid  bank_account\n",
       "0  uniqueid_7867 x Kenya           1.0\n",
       "1  uniqueid_6722 x Kenya           0.0\n",
       "2  uniqueid_6714 x Kenya           1.0\n",
       "3  uniqueid_8103 x Kenya           1.0\n",
       "4  uniqueid_8657 x Kenya           1.0"
      ],
      "text/html": "<div>\n<style scoped>\n    .dataframe tbody tr th:only-of-type {\n        vertical-align: middle;\n    }\n\n    .dataframe tbody tr th {\n        vertical-align: top;\n    }\n\n    .dataframe thead th {\n        text-align: right;\n    }\n</style>\n<table border=\"1\" class=\"dataframe\">\n  <thead>\n    <tr style=\"text-align: right;\">\n      <th></th>\n      <th>uniqueid</th>\n      <th>bank_account</th>\n    </tr>\n  </thead>\n  <tbody>\n    <tr>\n      <th>0</th>\n      <td>uniqueid_7867 x Kenya</td>\n      <td>1.0</td>\n    </tr>\n    <tr>\n      <th>1</th>\n      <td>uniqueid_6722 x Kenya</td>\n      <td>0.0</td>\n    </tr>\n    <tr>\n      <th>2</th>\n      <td>uniqueid_6714 x Kenya</td>\n      <td>1.0</td>\n    </tr>\n    <tr>\n      <th>3</th>\n      <td>uniqueid_8103 x Kenya</td>\n      <td>1.0</td>\n    </tr>\n    <tr>\n      <th>4</th>\n      <td>uniqueid_8657 x Kenya</td>\n      <td>1.0</td>\n    </tr>\n  </tbody>\n</table>\n</div>"
     },
     "metadata": {},
     "execution_count": 3
    }
   ],
   "source": [
    "submission = pd.read_csv('SubmissionFile.csv')\n",
    "submission.head()"
   ]
  },
  {
   "cell_type": "code",
   "execution_count": 88,
   "metadata": {},
   "outputs": [
    {
     "output_type": "stream",
     "name": "stdout",
     "text": [
      "<class 'pandas.core.frame.DataFrame'>\nRangeIndex: 10086 entries, 0 to 10085\nData columns (total 2 columns):\n #   Column        Non-Null Count  Dtype \n---  ------        --------------  ----- \n 0   uniqueid      10086 non-null  object\n 1   bank_account  10086 non-null  int32 \ndtypes: int32(1), object(1)\nmemory usage: 118.3+ KB\n"
     ]
    }
   ],
   "source": [
    "submission.info()"
   ]
  },
  {
   "cell_type": "code",
   "execution_count": 5,
   "metadata": {},
   "outputs": [
    {
     "output_type": "execute_result",
     "data": {
      "text/plain": [
       "  country  year    uniqueid bank_account location_type cellphone_access  \\\n",
       "0   Kenya  2018  uniqueid_1          Yes         Rural              Yes   \n",
       "1   Kenya  2018  uniqueid_2           No         Rural               No   \n",
       "2   Kenya  2018  uniqueid_3          Yes         Urban              Yes   \n",
       "\n",
       "   household_size  age_of_respondent gender_of_respondent  \\\n",
       "0               3                 24               Female   \n",
       "1               5                 70               Female   \n",
       "2               5                 26                 Male   \n",
       "\n",
       "  relationship_with_head           marital_status  \\\n",
       "0                 Spouse  Married/Living together   \n",
       "1      Head of Household                  Widowed   \n",
       "2         Other relative     Single/Never Married   \n",
       "\n",
       "                   education_level              job_type  \n",
       "0              Secondary education         Self employed  \n",
       "1              No formal education  Government Dependent  \n",
       "2  Vocational/Specialised training         Self employed  "
      ],
      "text/html": "<div>\n<style scoped>\n    .dataframe tbody tr th:only-of-type {\n        vertical-align: middle;\n    }\n\n    .dataframe tbody tr th {\n        vertical-align: top;\n    }\n\n    .dataframe thead th {\n        text-align: right;\n    }\n</style>\n<table border=\"1\" class=\"dataframe\">\n  <thead>\n    <tr style=\"text-align: right;\">\n      <th></th>\n      <th>country</th>\n      <th>year</th>\n      <th>uniqueid</th>\n      <th>bank_account</th>\n      <th>location_type</th>\n      <th>cellphone_access</th>\n      <th>household_size</th>\n      <th>age_of_respondent</th>\n      <th>gender_of_respondent</th>\n      <th>relationship_with_head</th>\n      <th>marital_status</th>\n      <th>education_level</th>\n      <th>job_type</th>\n    </tr>\n  </thead>\n  <tbody>\n    <tr>\n      <th>0</th>\n      <td>Kenya</td>\n      <td>2018</td>\n      <td>uniqueid_1</td>\n      <td>Yes</td>\n      <td>Rural</td>\n      <td>Yes</td>\n      <td>3</td>\n      <td>24</td>\n      <td>Female</td>\n      <td>Spouse</td>\n      <td>Married/Living together</td>\n      <td>Secondary education</td>\n      <td>Self employed</td>\n    </tr>\n    <tr>\n      <th>1</th>\n      <td>Kenya</td>\n      <td>2018</td>\n      <td>uniqueid_2</td>\n      <td>No</td>\n      <td>Rural</td>\n      <td>No</td>\n      <td>5</td>\n      <td>70</td>\n      <td>Female</td>\n      <td>Head of Household</td>\n      <td>Widowed</td>\n      <td>No formal education</td>\n      <td>Government Dependent</td>\n    </tr>\n    <tr>\n      <th>2</th>\n      <td>Kenya</td>\n      <td>2018</td>\n      <td>uniqueid_3</td>\n      <td>Yes</td>\n      <td>Urban</td>\n      <td>Yes</td>\n      <td>5</td>\n      <td>26</td>\n      <td>Male</td>\n      <td>Other relative</td>\n      <td>Single/Never Married</td>\n      <td>Vocational/Specialised training</td>\n      <td>Self employed</td>\n    </tr>\n  </tbody>\n</table>\n</div>"
     },
     "metadata": {},
     "execution_count": 5
    }
   ],
   "source": [
    "Train.head(3)"
   ]
  },
  {
   "cell_type": "code",
   "execution_count": 72,
   "metadata": {},
   "outputs": [],
   "source": [
    "clean_df_Train =  pd.get_dummies(Train, columns=['location_type','cellphone_access','gender_of_respondent','relationship_with_head','marital_status','education_level','job_type','country'])\n",
    "clean_df_Train = clean_df_Train[[\"household_size\", \"age_of_respondent\", \"year\"]].astype(float)\n",
    "# Test_DF = Test_DF[[\"household_size\", \"age_of_respondent\", \"year\"]]values.astype(float)"
   ]
  },
  {
   "cell_type": "code",
   "execution_count": 8,
   "metadata": {},
   "outputs": [
    {
     "output_type": "execute_result",
     "data": {
      "text/plain": [
       "   year    uniqueid bank_account  household_size  age_of_respondent  \\\n",
       "0  2018  uniqueid_1          Yes               3                 24   \n",
       "1  2018  uniqueid_2           No               5                 70   \n",
       "2  2018  uniqueid_3          Yes               5                 26   \n",
       "3  2018  uniqueid_4           No               5                 34   \n",
       "4  2018  uniqueid_5           No               8                 26   \n",
       "\n",
       "   location_type_Rural  location_type_Urban  cellphone_access_No  \\\n",
       "0                    1                    0                    0   \n",
       "1                    1                    0                    1   \n",
       "2                    0                    1                    0   \n",
       "3                    1                    0                    0   \n",
       "4                    0                    1                    1   \n",
       "\n",
       "   cellphone_access_Yes  gender_of_respondent_Female  ...  \\\n",
       "0                     1                            1  ...   \n",
       "1                     0                            1  ...   \n",
       "2                     1                            0  ...   \n",
       "3                     1                            1  ...   \n",
       "4                     0                            0  ...   \n",
       "\n",
       "   job_type_Government Dependent  job_type_Informally employed  \\\n",
       "0                              0                             0   \n",
       "1                              1                             0   \n",
       "2                              0                             0   \n",
       "3                              0                             0   \n",
       "4                              0                             1   \n",
       "\n",
       "   job_type_No Income  job_type_Other Income  job_type_Remittance Dependent  \\\n",
       "0                   0                      0                              0   \n",
       "1                   0                      0                              0   \n",
       "2                   0                      0                              0   \n",
       "3                   0                      0                              0   \n",
       "4                   0                      0                              0   \n",
       "\n",
       "   job_type_Self employed  country_Kenya  country_Rwanda  country_Tanzania  \\\n",
       "0                       1              1               0                 0   \n",
       "1                       0              1               0                 0   \n",
       "2                       1              1               0                 0   \n",
       "3                       0              1               0                 0   \n",
       "4                       0              1               0                 0   \n",
       "\n",
       "   country_Uganda  \n",
       "0               0  \n",
       "1               0  \n",
       "2               0  \n",
       "3               0  \n",
       "4               0  \n",
       "\n",
       "[5 rows x 42 columns]"
      ],
      "text/html": "<div>\n<style scoped>\n    .dataframe tbody tr th:only-of-type {\n        vertical-align: middle;\n    }\n\n    .dataframe tbody tr th {\n        vertical-align: top;\n    }\n\n    .dataframe thead th {\n        text-align: right;\n    }\n</style>\n<table border=\"1\" class=\"dataframe\">\n  <thead>\n    <tr style=\"text-align: right;\">\n      <th></th>\n      <th>year</th>\n      <th>uniqueid</th>\n      <th>bank_account</th>\n      <th>household_size</th>\n      <th>age_of_respondent</th>\n      <th>location_type_Rural</th>\n      <th>location_type_Urban</th>\n      <th>cellphone_access_No</th>\n      <th>cellphone_access_Yes</th>\n      <th>gender_of_respondent_Female</th>\n      <th>...</th>\n      <th>job_type_Government Dependent</th>\n      <th>job_type_Informally employed</th>\n      <th>job_type_No Income</th>\n      <th>job_type_Other Income</th>\n      <th>job_type_Remittance Dependent</th>\n      <th>job_type_Self employed</th>\n      <th>country_Kenya</th>\n      <th>country_Rwanda</th>\n      <th>country_Tanzania</th>\n      <th>country_Uganda</th>\n    </tr>\n  </thead>\n  <tbody>\n    <tr>\n      <th>0</th>\n      <td>2018</td>\n      <td>uniqueid_1</td>\n      <td>Yes</td>\n      <td>3</td>\n      <td>24</td>\n      <td>1</td>\n      <td>0</td>\n      <td>0</td>\n      <td>1</td>\n      <td>1</td>\n      <td>...</td>\n      <td>0</td>\n      <td>0</td>\n      <td>0</td>\n      <td>0</td>\n      <td>0</td>\n      <td>1</td>\n      <td>1</td>\n      <td>0</td>\n      <td>0</td>\n      <td>0</td>\n    </tr>\n    <tr>\n      <th>1</th>\n      <td>2018</td>\n      <td>uniqueid_2</td>\n      <td>No</td>\n      <td>5</td>\n      <td>70</td>\n      <td>1</td>\n      <td>0</td>\n      <td>1</td>\n      <td>0</td>\n      <td>1</td>\n      <td>...</td>\n      <td>1</td>\n      <td>0</td>\n      <td>0</td>\n      <td>0</td>\n      <td>0</td>\n      <td>0</td>\n      <td>1</td>\n      <td>0</td>\n      <td>0</td>\n      <td>0</td>\n    </tr>\n    <tr>\n      <th>2</th>\n      <td>2018</td>\n      <td>uniqueid_3</td>\n      <td>Yes</td>\n      <td>5</td>\n      <td>26</td>\n      <td>0</td>\n      <td>1</td>\n      <td>0</td>\n      <td>1</td>\n      <td>0</td>\n      <td>...</td>\n      <td>0</td>\n      <td>0</td>\n      <td>0</td>\n      <td>0</td>\n      <td>0</td>\n      <td>1</td>\n      <td>1</td>\n      <td>0</td>\n      <td>0</td>\n      <td>0</td>\n    </tr>\n    <tr>\n      <th>3</th>\n      <td>2018</td>\n      <td>uniqueid_4</td>\n      <td>No</td>\n      <td>5</td>\n      <td>34</td>\n      <td>1</td>\n      <td>0</td>\n      <td>0</td>\n      <td>1</td>\n      <td>1</td>\n      <td>...</td>\n      <td>0</td>\n      <td>0</td>\n      <td>0</td>\n      <td>0</td>\n      <td>0</td>\n      <td>0</td>\n      <td>1</td>\n      <td>0</td>\n      <td>0</td>\n      <td>0</td>\n    </tr>\n    <tr>\n      <th>4</th>\n      <td>2018</td>\n      <td>uniqueid_5</td>\n      <td>No</td>\n      <td>8</td>\n      <td>26</td>\n      <td>0</td>\n      <td>1</td>\n      <td>1</td>\n      <td>0</td>\n      <td>0</td>\n      <td>...</td>\n      <td>0</td>\n      <td>1</td>\n      <td>0</td>\n      <td>0</td>\n      <td>0</td>\n      <td>0</td>\n      <td>1</td>\n      <td>0</td>\n      <td>0</td>\n      <td>0</td>\n    </tr>\n  </tbody>\n</table>\n<p>5 rows × 42 columns</p>\n</div>"
     },
     "metadata": {},
     "execution_count": 8
    }
   ],
   "source": [
    "clean_df_Train.head(5)"
   ]
  },
  {
   "cell_type": "code",
   "execution_count": 10,
   "metadata": {},
   "outputs": [],
   "source": [
    "clean_df_Test =  pd.get_dummies(Test, columns=['location_type','cellphone_access','gender_of_respondent','relationship_with_head','marital_status','education_level','job_type','country'])"
   ]
  },
  {
   "cell_type": "code",
   "execution_count": 12,
   "metadata": {},
   "outputs": [
    {
     "output_type": "execute_result",
     "data": {
      "text/plain": [
       "(23524, 42)"
      ]
     },
     "metadata": {},
     "execution_count": 12
    }
   ],
   "source": [
    "clean_df_Train.shape"
   ]
  },
  {
   "cell_type": "code",
   "execution_count": 13,
   "metadata": {},
   "outputs": [],
   "source": [
    "X = clean_df_Train.drop(['uniqueid'],axis=1)"
   ]
  },
  {
   "cell_type": "code",
   "execution_count": 14,
   "metadata": {},
   "outputs": [],
   "source": [
    "X = X.drop(['bank_account'],axis=1)"
   ]
  },
  {
   "cell_type": "code",
   "execution_count": 16,
   "metadata": {},
   "outputs": [
    {
     "output_type": "execute_result",
     "data": {
      "text/plain": [
       "   year  household_size  age_of_respondent  location_type_Rural  \\\n",
       "0  2018               3                 24                    1   \n",
       "1  2018               5                 70                    1   \n",
       "2  2018               5                 26                    0   \n",
       "3  2018               5                 34                    1   \n",
       "4  2018               8                 26                    0   \n",
       "\n",
       "   location_type_Urban  cellphone_access_No  cellphone_access_Yes  \\\n",
       "0                    0                    0                     1   \n",
       "1                    0                    1                     0   \n",
       "2                    1                    0                     1   \n",
       "3                    0                    0                     1   \n",
       "4                    1                    1                     0   \n",
       "\n",
       "   gender_of_respondent_Female  gender_of_respondent_Male  \\\n",
       "0                            1                          0   \n",
       "1                            1                          0   \n",
       "2                            0                          1   \n",
       "3                            1                          0   \n",
       "4                            0                          1   \n",
       "\n",
       "   relationship_with_head_Child  ...  job_type_Government Dependent  \\\n",
       "0                             0  ...                              0   \n",
       "1                             0  ...                              1   \n",
       "2                             0  ...                              0   \n",
       "3                             0  ...                              0   \n",
       "4                             1  ...                              0   \n",
       "\n",
       "   job_type_Informally employed  job_type_No Income  job_type_Other Income  \\\n",
       "0                             0                   0                      0   \n",
       "1                             0                   0                      0   \n",
       "2                             0                   0                      0   \n",
       "3                             0                   0                      0   \n",
       "4                             1                   0                      0   \n",
       "\n",
       "   job_type_Remittance Dependent  job_type_Self employed  country_Kenya  \\\n",
       "0                              0                       1              1   \n",
       "1                              0                       0              1   \n",
       "2                              0                       1              1   \n",
       "3                              0                       0              1   \n",
       "4                              0                       0              1   \n",
       "\n",
       "   country_Rwanda  country_Tanzania  country_Uganda  \n",
       "0               0                 0               0  \n",
       "1               0                 0               0  \n",
       "2               0                 0               0  \n",
       "3               0                 0               0  \n",
       "4               0                 0               0  \n",
       "\n",
       "[5 rows x 40 columns]"
      ],
      "text/html": "<div>\n<style scoped>\n    .dataframe tbody tr th:only-of-type {\n        vertical-align: middle;\n    }\n\n    .dataframe tbody tr th {\n        vertical-align: top;\n    }\n\n    .dataframe thead th {\n        text-align: right;\n    }\n</style>\n<table border=\"1\" class=\"dataframe\">\n  <thead>\n    <tr style=\"text-align: right;\">\n      <th></th>\n      <th>year</th>\n      <th>household_size</th>\n      <th>age_of_respondent</th>\n      <th>location_type_Rural</th>\n      <th>location_type_Urban</th>\n      <th>cellphone_access_No</th>\n      <th>cellphone_access_Yes</th>\n      <th>gender_of_respondent_Female</th>\n      <th>gender_of_respondent_Male</th>\n      <th>relationship_with_head_Child</th>\n      <th>...</th>\n      <th>job_type_Government Dependent</th>\n      <th>job_type_Informally employed</th>\n      <th>job_type_No Income</th>\n      <th>job_type_Other Income</th>\n      <th>job_type_Remittance Dependent</th>\n      <th>job_type_Self employed</th>\n      <th>country_Kenya</th>\n      <th>country_Rwanda</th>\n      <th>country_Tanzania</th>\n      <th>country_Uganda</th>\n    </tr>\n  </thead>\n  <tbody>\n    <tr>\n      <th>0</th>\n      <td>2018</td>\n      <td>3</td>\n      <td>24</td>\n      <td>1</td>\n      <td>0</td>\n      <td>0</td>\n      <td>1</td>\n      <td>1</td>\n      <td>0</td>\n      <td>0</td>\n      <td>...</td>\n      <td>0</td>\n      <td>0</td>\n      <td>0</td>\n      <td>0</td>\n      <td>0</td>\n      <td>1</td>\n      <td>1</td>\n      <td>0</td>\n      <td>0</td>\n      <td>0</td>\n    </tr>\n    <tr>\n      <th>1</th>\n      <td>2018</td>\n      <td>5</td>\n      <td>70</td>\n      <td>1</td>\n      <td>0</td>\n      <td>1</td>\n      <td>0</td>\n      <td>1</td>\n      <td>0</td>\n      <td>0</td>\n      <td>...</td>\n      <td>1</td>\n      <td>0</td>\n      <td>0</td>\n      <td>0</td>\n      <td>0</td>\n      <td>0</td>\n      <td>1</td>\n      <td>0</td>\n      <td>0</td>\n      <td>0</td>\n    </tr>\n    <tr>\n      <th>2</th>\n      <td>2018</td>\n      <td>5</td>\n      <td>26</td>\n      <td>0</td>\n      <td>1</td>\n      <td>0</td>\n      <td>1</td>\n      <td>0</td>\n      <td>1</td>\n      <td>0</td>\n      <td>...</td>\n      <td>0</td>\n      <td>0</td>\n      <td>0</td>\n      <td>0</td>\n      <td>0</td>\n      <td>1</td>\n      <td>1</td>\n      <td>0</td>\n      <td>0</td>\n      <td>0</td>\n    </tr>\n    <tr>\n      <th>3</th>\n      <td>2018</td>\n      <td>5</td>\n      <td>34</td>\n      <td>1</td>\n      <td>0</td>\n      <td>0</td>\n      <td>1</td>\n      <td>1</td>\n      <td>0</td>\n      <td>0</td>\n      <td>...</td>\n      <td>0</td>\n      <td>0</td>\n      <td>0</td>\n      <td>0</td>\n      <td>0</td>\n      <td>0</td>\n      <td>1</td>\n      <td>0</td>\n      <td>0</td>\n      <td>0</td>\n    </tr>\n    <tr>\n      <th>4</th>\n      <td>2018</td>\n      <td>8</td>\n      <td>26</td>\n      <td>0</td>\n      <td>1</td>\n      <td>1</td>\n      <td>0</td>\n      <td>0</td>\n      <td>1</td>\n      <td>1</td>\n      <td>...</td>\n      <td>0</td>\n      <td>1</td>\n      <td>0</td>\n      <td>0</td>\n      <td>0</td>\n      <td>0</td>\n      <td>1</td>\n      <td>0</td>\n      <td>0</td>\n      <td>0</td>\n    </tr>\n  </tbody>\n</table>\n<p>5 rows × 40 columns</p>\n</div>"
     },
     "metadata": {},
     "execution_count": 16
    }
   ],
   "source": [
    "X.head(5)"
   ]
  },
  {
   "cell_type": "code",
   "execution_count": 19,
   "metadata": {},
   "outputs": [
    {
     "output_type": "execute_result",
     "data": {
      "text/plain": [
       "0        Yes\n",
       "1         No\n",
       "2        Yes\n",
       "3         No\n",
       "4         No\n",
       "        ... \n",
       "23519     No\n",
       "23520     No\n",
       "23521     No\n",
       "23522     No\n",
       "23523     No\n",
       "Name: bank_account, Length: 23524, dtype: object"
      ]
     },
     "metadata": {},
     "execution_count": 19
    }
   ],
   "source": [
    "Train['bank_account']"
   ]
  },
  {
   "cell_type": "code",
   "execution_count": 20,
   "metadata": {},
   "outputs": [
    {
     "output_type": "execute_result",
     "data": {
      "text/plain": [
       "0        1\n",
       "1        0\n",
       "2        1\n",
       "3        0\n",
       "4        0\n",
       "        ..\n",
       "23519    0\n",
       "23520    0\n",
       "23521    0\n",
       "23522    0\n",
       "23523    0\n",
       "Name: bank_account, Length: 23524, dtype: int32"
      ]
     },
     "metadata": {},
     "execution_count": 20
    }
   ],
   "source": [
    "from sklearn.preprocessing import LabelEncoder\n",
    "# Convert target label to numerical Data\n",
    "le = LabelEncoder()\n",
    "Train['bank_account']  = le.fit_transform(Train['bank_account'])\n",
    "y = Train['bank_account']\n",
    "y"
   ]
  },
  {
   "cell_type": "code",
   "execution_count": 21,
   "metadata": {},
   "outputs": [
    {
     "output_type": "execute_result",
     "data": {
      "text/plain": [
       "   year  household_size  age_of_respondent  location_type_Rural  \\\n",
       "0  2018               3                 24                    1   \n",
       "1  2018               5                 70                    1   \n",
       "2  2018               5                 26                    0   \n",
       "\n",
       "   location_type_Urban  cellphone_access_No  cellphone_access_Yes  \\\n",
       "0                    0                    0                     1   \n",
       "1                    0                    1                     0   \n",
       "2                    1                    0                     1   \n",
       "\n",
       "   gender_of_respondent_Female  gender_of_respondent_Male  \\\n",
       "0                            1                          0   \n",
       "1                            1                          0   \n",
       "2                            0                          1   \n",
       "\n",
       "   relationship_with_head_Child  ...  job_type_Government Dependent  \\\n",
       "0                             0  ...                              0   \n",
       "1                             0  ...                              1   \n",
       "2                             0  ...                              0   \n",
       "\n",
       "   job_type_Informally employed  job_type_No Income  job_type_Other Income  \\\n",
       "0                             0                   0                      0   \n",
       "1                             0                   0                      0   \n",
       "2                             0                   0                      0   \n",
       "\n",
       "   job_type_Remittance Dependent  job_type_Self employed  country_Kenya  \\\n",
       "0                              0                       1              1   \n",
       "1                              0                       0              1   \n",
       "2                              0                       1              1   \n",
       "\n",
       "   country_Rwanda  country_Tanzania  country_Uganda  \n",
       "0               0                 0               0  \n",
       "1               0                 0               0  \n",
       "2               0                 0               0  \n",
       "\n",
       "[3 rows x 40 columns]"
      ],
      "text/html": "<div>\n<style scoped>\n    .dataframe tbody tr th:only-of-type {\n        vertical-align: middle;\n    }\n\n    .dataframe tbody tr th {\n        vertical-align: top;\n    }\n\n    .dataframe thead th {\n        text-align: right;\n    }\n</style>\n<table border=\"1\" class=\"dataframe\">\n  <thead>\n    <tr style=\"text-align: right;\">\n      <th></th>\n      <th>year</th>\n      <th>household_size</th>\n      <th>age_of_respondent</th>\n      <th>location_type_Rural</th>\n      <th>location_type_Urban</th>\n      <th>cellphone_access_No</th>\n      <th>cellphone_access_Yes</th>\n      <th>gender_of_respondent_Female</th>\n      <th>gender_of_respondent_Male</th>\n      <th>relationship_with_head_Child</th>\n      <th>...</th>\n      <th>job_type_Government Dependent</th>\n      <th>job_type_Informally employed</th>\n      <th>job_type_No Income</th>\n      <th>job_type_Other Income</th>\n      <th>job_type_Remittance Dependent</th>\n      <th>job_type_Self employed</th>\n      <th>country_Kenya</th>\n      <th>country_Rwanda</th>\n      <th>country_Tanzania</th>\n      <th>country_Uganda</th>\n    </tr>\n  </thead>\n  <tbody>\n    <tr>\n      <th>0</th>\n      <td>2018</td>\n      <td>3</td>\n      <td>24</td>\n      <td>1</td>\n      <td>0</td>\n      <td>0</td>\n      <td>1</td>\n      <td>1</td>\n      <td>0</td>\n      <td>0</td>\n      <td>...</td>\n      <td>0</td>\n      <td>0</td>\n      <td>0</td>\n      <td>0</td>\n      <td>0</td>\n      <td>1</td>\n      <td>1</td>\n      <td>0</td>\n      <td>0</td>\n      <td>0</td>\n    </tr>\n    <tr>\n      <th>1</th>\n      <td>2018</td>\n      <td>5</td>\n      <td>70</td>\n      <td>1</td>\n      <td>0</td>\n      <td>1</td>\n      <td>0</td>\n      <td>1</td>\n      <td>0</td>\n      <td>0</td>\n      <td>...</td>\n      <td>1</td>\n      <td>0</td>\n      <td>0</td>\n      <td>0</td>\n      <td>0</td>\n      <td>0</td>\n      <td>1</td>\n      <td>0</td>\n      <td>0</td>\n      <td>0</td>\n    </tr>\n    <tr>\n      <th>2</th>\n      <td>2018</td>\n      <td>5</td>\n      <td>26</td>\n      <td>0</td>\n      <td>1</td>\n      <td>0</td>\n      <td>1</td>\n      <td>0</td>\n      <td>1</td>\n      <td>0</td>\n      <td>...</td>\n      <td>0</td>\n      <td>0</td>\n      <td>0</td>\n      <td>0</td>\n      <td>0</td>\n      <td>1</td>\n      <td>1</td>\n      <td>0</td>\n      <td>0</td>\n      <td>0</td>\n    </tr>\n  </tbody>\n</table>\n<p>3 rows × 40 columns</p>\n</div>"
     },
     "metadata": {},
     "execution_count": 21
    }
   ],
   "source": [
    "X.head(3)"
   ]
  },
  {
   "cell_type": "code",
   "execution_count": 23,
   "metadata": {},
   "outputs": [],
   "source": [
    "# import python machine learning libraries we need \n",
    "from sklearn.model_selection import train_test_split"
   ]
  },
  {
   "cell_type": "code",
   "execution_count": 104,
   "metadata": {},
   "outputs": [
    {
     "output_type": "error",
     "ename": "TypeError",
     "evalue": "unhashable type: 'numpy.ndarray'",
     "traceback": [
      "\u001b[1;31m---------------------------------------------------------------------------\u001b[0m",
      "\u001b[1;31mTypeError\u001b[0m                                 Traceback (most recent call last)",
      "\u001b[1;32m<ipython-input-104-aec208469174>\u001b[0m in \u001b[0;36m<module>\u001b[1;34m\u001b[0m\n\u001b[0;32m      1\u001b[0m \u001b[1;31m# To check the missing column in X\u001b[0m\u001b[1;33m\u001b[0m\u001b[1;33m\u001b[0m\u001b[1;33m\u001b[0m\u001b[0m\n\u001b[0;32m      2\u001b[0m \u001b[1;32mfor\u001b[0m \u001b[0mcolumn\u001b[0m \u001b[1;32min\u001b[0m \u001b[0mX\u001b[0m\u001b[1;33m:\u001b[0m\u001b[1;33m\u001b[0m\u001b[1;33m\u001b[0m\u001b[0m\n\u001b[1;32m----> 3\u001b[1;33m     \u001b[1;32mif\u001b[0m \u001b[0mcolumn\u001b[0m \u001b[1;32mnot\u001b[0m \u001b[1;32min\u001b[0m \u001b[0mTest_DF\u001b[0m\u001b[1;33m:\u001b[0m\u001b[1;33m\u001b[0m\u001b[1;33m\u001b[0m\u001b[0m\n\u001b[0m\u001b[0;32m      4\u001b[0m         \u001b[0mprint\u001b[0m\u001b[1;33m(\u001b[0m\u001b[0mTest_DF\u001b[0m\u001b[1;33m[\u001b[0m\u001b[0mcolumn\u001b[0m\u001b[1;33m]\u001b[0m\u001b[1;33m)\u001b[0m\u001b[1;33m\u001b[0m\u001b[1;33m\u001b[0m\u001b[0m\n",
      "\u001b[1;32m~\\anaconda3\\lib\\site-packages\\pandas\\core\\generic.py\u001b[0m in \u001b[0;36m__contains__\u001b[1;34m(self, key)\u001b[0m\n\u001b[0;32m   1719\u001b[0m     \u001b[1;32mdef\u001b[0m \u001b[0m__contains__\u001b[0m\u001b[1;33m(\u001b[0m\u001b[0mself\u001b[0m\u001b[1;33m,\u001b[0m \u001b[0mkey\u001b[0m\u001b[1;33m)\u001b[0m \u001b[1;33m->\u001b[0m \u001b[0mbool_t\u001b[0m\u001b[1;33m:\u001b[0m\u001b[1;33m\u001b[0m\u001b[1;33m\u001b[0m\u001b[0m\n\u001b[0;32m   1720\u001b[0m         \u001b[1;34m\"\"\"True if the key is in the info axis\"\"\"\u001b[0m\u001b[1;33m\u001b[0m\u001b[1;33m\u001b[0m\u001b[0m\n\u001b[1;32m-> 1721\u001b[1;33m         \u001b[1;32mreturn\u001b[0m \u001b[0mkey\u001b[0m \u001b[1;32min\u001b[0m \u001b[0mself\u001b[0m\u001b[1;33m.\u001b[0m\u001b[0m_info_axis\u001b[0m\u001b[1;33m\u001b[0m\u001b[1;33m\u001b[0m\u001b[0m\n\u001b[0m\u001b[0;32m   1722\u001b[0m \u001b[1;33m\u001b[0m\u001b[0m\n\u001b[0;32m   1723\u001b[0m     \u001b[1;33m@\u001b[0m\u001b[0mproperty\u001b[0m\u001b[1;33m\u001b[0m\u001b[1;33m\u001b[0m\u001b[0m\n",
      "\u001b[1;32m~\\anaconda3\\lib\\site-packages\\pandas\\core\\indexes\\base.py\u001b[0m in \u001b[0;36m__contains__\u001b[1;34m(self, key)\u001b[0m\n\u001b[0;32m   4069\u001b[0m         \u001b[1;32mFalse\u001b[0m\u001b[1;33m\u001b[0m\u001b[1;33m\u001b[0m\u001b[0m\n\u001b[0;32m   4070\u001b[0m         \"\"\"\n\u001b[1;32m-> 4071\u001b[1;33m         \u001b[0mhash\u001b[0m\u001b[1;33m(\u001b[0m\u001b[0mkey\u001b[0m\u001b[1;33m)\u001b[0m\u001b[1;33m\u001b[0m\u001b[1;33m\u001b[0m\u001b[0m\n\u001b[0m\u001b[0;32m   4072\u001b[0m         \u001b[1;32mtry\u001b[0m\u001b[1;33m:\u001b[0m\u001b[1;33m\u001b[0m\u001b[1;33m\u001b[0m\u001b[0m\n\u001b[0;32m   4073\u001b[0m             \u001b[1;32mreturn\u001b[0m \u001b[0mkey\u001b[0m \u001b[1;32min\u001b[0m \u001b[0mself\u001b[0m\u001b[1;33m.\u001b[0m\u001b[0m_engine\u001b[0m\u001b[1;33m\u001b[0m\u001b[1;33m\u001b[0m\u001b[0m\n",
      "\u001b[1;31mTypeError\u001b[0m: unhashable type: 'numpy.ndarray'"
     ]
    }
   ],
   "source": [
    "# # To check the missing column in X \n",
    "# for column in X:\n",
    "#     if column not in Test_DF:\n",
    "#         print(Test_DF[column])"
   ]
  },
  {
   "cell_type": "code",
   "execution_count": 26,
   "metadata": {},
   "outputs": [],
   "source": [
    "# Test_DF = clean_df_Test"
   ]
  },
  {
   "cell_type": "code",
   "execution_count": 29,
   "metadata": {},
   "outputs": [],
   "source": [
    "X_Train,X_Test,y_Train,y_Test = train_test_split(X,y,test_size = 0.2,random_state=42)"
   ]
  },
  {
   "cell_type": "code",
   "execution_count": 42,
   "metadata": {},
   "outputs": [],
   "source": [
    "clean_df_Test = clean_df_Test.drop([\"uniqueid\"], axis=1)"
   ]
  },
  {
   "cell_type": "code",
   "execution_count": 43,
   "metadata": {},
   "outputs": [
    {
     "output_type": "execute_result",
     "data": {
      "text/plain": [
       "   year  household_size  age_of_respondent  location_type_Rural  \\\n",
       "0  2018               3                 30                    0   \n",
       "1  2018               7                 51                    0   \n",
       "2  2018               3                 77                    1   \n",
       "3  2018               6                 39                    1   \n",
       "4  2018               3                 16                    0   \n",
       "\n",
       "   location_type_Urban  cellphone_access_No  cellphone_access_Yes  \\\n",
       "0                    1                    0                     1   \n",
       "1                    1                    0                     1   \n",
       "2                    0                    1                     0   \n",
       "3                    0                    1                     0   \n",
       "4                    1                    1                     0   \n",
       "\n",
       "   gender_of_respondent_Female  gender_of_respondent_Male  \\\n",
       "0                            0                          1   \n",
       "1                            0                          1   \n",
       "2                            1                          0   \n",
       "3                            1                          0   \n",
       "4                            0                          1   \n",
       "\n",
       "   relationship_with_head_Child  ...  job_type_Government Dependent  \\\n",
       "0                             0  ...                              0   \n",
       "1                             0  ...                              0   \n",
       "2                             0  ...                              0   \n",
       "3                             0  ...                              0   \n",
       "4                             1  ...                              0   \n",
       "\n",
       "   job_type_Informally employed  job_type_No Income  job_type_Other Income  \\\n",
       "0                             0                   0                      0   \n",
       "1                             0                   0                      0   \n",
       "2                             0                   0                      0   \n",
       "3                             0                   0                      0   \n",
       "4                             0                   0                      0   \n",
       "\n",
       "   job_type_Remittance Dependent  job_type_Self employed  country_Kenya  \\\n",
       "0                              0                       0              1   \n",
       "1                              0                       0              1   \n",
       "2                              1                       0              1   \n",
       "3                              1                       0              1   \n",
       "4                              1                       0              1   \n",
       "\n",
       "   country_Rwanda  country_Tanzania  country_Uganda  \n",
       "0               0                 0               0  \n",
       "1               0                 0               0  \n",
       "2               0                 0               0  \n",
       "3               0                 0               0  \n",
       "4               0                 0               0  \n",
       "\n",
       "[5 rows x 40 columns]"
      ],
      "text/html": "<div>\n<style scoped>\n    .dataframe tbody tr th:only-of-type {\n        vertical-align: middle;\n    }\n\n    .dataframe tbody tr th {\n        vertical-align: top;\n    }\n\n    .dataframe thead th {\n        text-align: right;\n    }\n</style>\n<table border=\"1\" class=\"dataframe\">\n  <thead>\n    <tr style=\"text-align: right;\">\n      <th></th>\n      <th>year</th>\n      <th>household_size</th>\n      <th>age_of_respondent</th>\n      <th>location_type_Rural</th>\n      <th>location_type_Urban</th>\n      <th>cellphone_access_No</th>\n      <th>cellphone_access_Yes</th>\n      <th>gender_of_respondent_Female</th>\n      <th>gender_of_respondent_Male</th>\n      <th>relationship_with_head_Child</th>\n      <th>...</th>\n      <th>job_type_Government Dependent</th>\n      <th>job_type_Informally employed</th>\n      <th>job_type_No Income</th>\n      <th>job_type_Other Income</th>\n      <th>job_type_Remittance Dependent</th>\n      <th>job_type_Self employed</th>\n      <th>country_Kenya</th>\n      <th>country_Rwanda</th>\n      <th>country_Tanzania</th>\n      <th>country_Uganda</th>\n    </tr>\n  </thead>\n  <tbody>\n    <tr>\n      <th>0</th>\n      <td>2018</td>\n      <td>3</td>\n      <td>30</td>\n      <td>0</td>\n      <td>1</td>\n      <td>0</td>\n      <td>1</td>\n      <td>0</td>\n      <td>1</td>\n      <td>0</td>\n      <td>...</td>\n      <td>0</td>\n      <td>0</td>\n      <td>0</td>\n      <td>0</td>\n      <td>0</td>\n      <td>0</td>\n      <td>1</td>\n      <td>0</td>\n      <td>0</td>\n      <td>0</td>\n    </tr>\n    <tr>\n      <th>1</th>\n      <td>2018</td>\n      <td>7</td>\n      <td>51</td>\n      <td>0</td>\n      <td>1</td>\n      <td>0</td>\n      <td>1</td>\n      <td>0</td>\n      <td>1</td>\n      <td>0</td>\n      <td>...</td>\n      <td>0</td>\n      <td>0</td>\n      <td>0</td>\n      <td>0</td>\n      <td>0</td>\n      <td>0</td>\n      <td>1</td>\n      <td>0</td>\n      <td>0</td>\n      <td>0</td>\n    </tr>\n    <tr>\n      <th>2</th>\n      <td>2018</td>\n      <td>3</td>\n      <td>77</td>\n      <td>1</td>\n      <td>0</td>\n      <td>1</td>\n      <td>0</td>\n      <td>1</td>\n      <td>0</td>\n      <td>0</td>\n      <td>...</td>\n      <td>0</td>\n      <td>0</td>\n      <td>0</td>\n      <td>0</td>\n      <td>1</td>\n      <td>0</td>\n      <td>1</td>\n      <td>0</td>\n      <td>0</td>\n      <td>0</td>\n    </tr>\n    <tr>\n      <th>3</th>\n      <td>2018</td>\n      <td>6</td>\n      <td>39</td>\n      <td>1</td>\n      <td>0</td>\n      <td>1</td>\n      <td>0</td>\n      <td>1</td>\n      <td>0</td>\n      <td>0</td>\n      <td>...</td>\n      <td>0</td>\n      <td>0</td>\n      <td>0</td>\n      <td>0</td>\n      <td>1</td>\n      <td>0</td>\n      <td>1</td>\n      <td>0</td>\n      <td>0</td>\n      <td>0</td>\n    </tr>\n    <tr>\n      <th>4</th>\n      <td>2018</td>\n      <td>3</td>\n      <td>16</td>\n      <td>0</td>\n      <td>1</td>\n      <td>1</td>\n      <td>0</td>\n      <td>0</td>\n      <td>1</td>\n      <td>1</td>\n      <td>...</td>\n      <td>0</td>\n      <td>0</td>\n      <td>0</td>\n      <td>0</td>\n      <td>1</td>\n      <td>0</td>\n      <td>1</td>\n      <td>0</td>\n      <td>0</td>\n      <td>0</td>\n    </tr>\n  </tbody>\n</table>\n<p>5 rows × 40 columns</p>\n</div>"
     },
     "metadata": {},
     "execution_count": 43
    }
   ],
   "source": [
    "clean_df_Test.head(5)"
   ]
  },
  {
   "cell_type": "code",
   "execution_count": 31,
   "metadata": {},
   "outputs": [
    {
     "output_type": "execute_result",
     "data": {
      "text/plain": [
       "12033    0\n",
       "11888    0\n",
       "20909    0\n",
       "22785    0\n",
       "14323    0\n",
       "        ..\n",
       "11964    0\n",
       "21575    0\n",
       "5390     1\n",
       "860      1\n",
       "15795    0\n",
       "Name: bank_account, Length: 18819, dtype: int32"
      ]
     },
     "metadata": {},
     "execution_count": 31
    }
   ],
   "source": [
    "y_Train"
   ]
  },
  {
   "cell_type": "code",
   "execution_count": 36,
   "metadata": {},
   "outputs": [
    {
     "output_type": "execute_result",
     "data": {
      "text/plain": [
       "GaussianNB()"
      ]
     },
     "metadata": {},
     "execution_count": 36
    }
   ],
   "source": [
    "#import classifier algorithm here\n",
    "from sklearn.linear_model import LogisticRegression\n",
    "from sklearn.ensemble import RandomForestClassifier\n",
    "from sklearn.neighbors import KNeighborsClassifier\n",
    "from sklearn.naive_bayes import GaussianNB\n",
    "from sklearn.tree import DecisionTreeClassifier\n",
    "\n",
    "# create models\n",
    "RFC = RandomForestClassifier()\n",
    "KNC = KNeighborsClassifier()\n",
    "LR = LogisticRegression()\n",
    "GNB = GaussianNB()\n",
    "Treat = DecisionTreeClassifier()\n",
    "\n",
    "#fitting the models\n",
    "RFC.fit(X_Train,y_Train)\n",
    "Treat.fit(X_Train,y_Train)\n",
    "KNC.fit(X_Train,y_Train)\n",
    "LR.fit(X_Train,y_Train)\n",
    "GNB.fit(X_Train,y_Train)"
   ]
  },
  {
   "cell_type": "code",
   "execution_count": 37,
   "metadata": {},
   "outputs": [
    {
     "output_type": "stream",
     "name": "stdout",
     "text": [
      "Error rate of Random Forest classifier:  0.14537725823591918\nError rate of KNeighbors Classifier:  0.15855472901168965\nError rate of LogisticRegression :  0.1364505844845909\nError rate of GaussianNB classifier:  0.1364505844845909\n"
     ]
    }
   ],
   "source": [
    "# import evaluation metrics\n",
    "from sklearn.metrics import accuracy_score,confusion_matrix\n",
    "\n",
    "# evaluate the model\n",
    "RFC_y_pred =  RFC.predict(X_Test)\n",
    "KNC_y_pred =  KNC.predict(X_Test)\n",
    "LR_y_pred =  LR.predict(X_Test)\n",
    "GNB_y_pred =  GNB.predict(X_Test)\n",
    "\n",
    "# Get error rate\n",
    "print(\"Error rate of Random Forest classifier: \", 1 - accuracy_score(y_Test, RFC_y_pred ))\n",
    "print(\"Error rate of KNeighbors Classifier: \", 1 - accuracy_score(y_Test, KNC_y_pred))\n",
    "print(\"Error rate of LogisticRegression : \", 1 - accuracy_score(y_Test, LR_y_pred))\n",
    "print(\"Error rate of GaussianNB classifier: \", 1 - accuracy_score(y_Test, GNB_y_pred))"
   ]
  },
  {
   "cell_type": "code",
   "execution_count": 49,
   "metadata": {},
   "outputs": [
    {
     "output_type": "execute_result",
     "data": {
      "text/plain": [
       "  country  year       uniqueid location_type cellphone_access  household_size  \\\n",
       "0   Kenya  2018  uniqueid_6056         Urban              Yes               3   \n",
       "\n",
       "   age_of_respondent gender_of_respondent relationship_with_head  \\\n",
       "0                 30                 Male      Head of Household   \n",
       "\n",
       "            marital_status      education_level                      job_type  \n",
       "0  Married/Living together  Secondary education  Formally employed Government  "
      ],
      "text/html": "<div>\n<style scoped>\n    .dataframe tbody tr th:only-of-type {\n        vertical-align: middle;\n    }\n\n    .dataframe tbody tr th {\n        vertical-align: top;\n    }\n\n    .dataframe thead th {\n        text-align: right;\n    }\n</style>\n<table border=\"1\" class=\"dataframe\">\n  <thead>\n    <tr style=\"text-align: right;\">\n      <th></th>\n      <th>country</th>\n      <th>year</th>\n      <th>uniqueid</th>\n      <th>location_type</th>\n      <th>cellphone_access</th>\n      <th>household_size</th>\n      <th>age_of_respondent</th>\n      <th>gender_of_respondent</th>\n      <th>relationship_with_head</th>\n      <th>marital_status</th>\n      <th>education_level</th>\n      <th>job_type</th>\n    </tr>\n  </thead>\n  <tbody>\n    <tr>\n      <th>0</th>\n      <td>Kenya</td>\n      <td>2018</td>\n      <td>uniqueid_6056</td>\n      <td>Urban</td>\n      <td>Yes</td>\n      <td>3</td>\n      <td>30</td>\n      <td>Male</td>\n      <td>Head of Household</td>\n      <td>Married/Living together</td>\n      <td>Secondary education</td>\n      <td>Formally employed Government</td>\n    </tr>\n  </tbody>\n</table>\n</div>"
     },
     "metadata": {},
     "execution_count": 49
    }
   ],
   "source": [
    "Test.head(1)"
   ]
  },
  {
   "cell_type": "code",
   "execution_count": 47,
   "metadata": {},
   "outputs": [
    {
     "output_type": "execute_result",
     "data": {
      "text/plain": [
       "   year  household_size  age_of_respondent  location_type_Rural  \\\n",
       "0  2018               3                 30                    0   \n",
       "1  2018               7                 51                    0   \n",
       "\n",
       "   location_type_Urban  cellphone_access_No  cellphone_access_Yes  \\\n",
       "0                    1                    0                     1   \n",
       "1                    1                    0                     1   \n",
       "\n",
       "   gender_of_respondent_Female  gender_of_respondent_Male  \\\n",
       "0                            0                          1   \n",
       "1                            0                          1   \n",
       "\n",
       "   relationship_with_head_Child  ...  job_type_Government Dependent  \\\n",
       "0                             0  ...                              0   \n",
       "1                             0  ...                              0   \n",
       "\n",
       "   job_type_Informally employed  job_type_No Income  job_type_Other Income  \\\n",
       "0                             0                   0                      0   \n",
       "1                             0                   0                      0   \n",
       "\n",
       "   job_type_Remittance Dependent  job_type_Self employed  country_Kenya  \\\n",
       "0                              0                       0              1   \n",
       "1                              0                       0              1   \n",
       "\n",
       "   country_Rwanda  country_Tanzania  country_Uganda  \n",
       "0               0                 0               0  \n",
       "1               0                 0               0  \n",
       "\n",
       "[2 rows x 40 columns]"
      ],
      "text/html": "<div>\n<style scoped>\n    .dataframe tbody tr th:only-of-type {\n        vertical-align: middle;\n    }\n\n    .dataframe tbody tr th {\n        vertical-align: top;\n    }\n\n    .dataframe thead th {\n        text-align: right;\n    }\n</style>\n<table border=\"1\" class=\"dataframe\">\n  <thead>\n    <tr style=\"text-align: right;\">\n      <th></th>\n      <th>year</th>\n      <th>household_size</th>\n      <th>age_of_respondent</th>\n      <th>location_type_Rural</th>\n      <th>location_type_Urban</th>\n      <th>cellphone_access_No</th>\n      <th>cellphone_access_Yes</th>\n      <th>gender_of_respondent_Female</th>\n      <th>gender_of_respondent_Male</th>\n      <th>relationship_with_head_Child</th>\n      <th>...</th>\n      <th>job_type_Government Dependent</th>\n      <th>job_type_Informally employed</th>\n      <th>job_type_No Income</th>\n      <th>job_type_Other Income</th>\n      <th>job_type_Remittance Dependent</th>\n      <th>job_type_Self employed</th>\n      <th>country_Kenya</th>\n      <th>country_Rwanda</th>\n      <th>country_Tanzania</th>\n      <th>country_Uganda</th>\n    </tr>\n  </thead>\n  <tbody>\n    <tr>\n      <th>0</th>\n      <td>2018</td>\n      <td>3</td>\n      <td>30</td>\n      <td>0</td>\n      <td>1</td>\n      <td>0</td>\n      <td>1</td>\n      <td>0</td>\n      <td>1</td>\n      <td>0</td>\n      <td>...</td>\n      <td>0</td>\n      <td>0</td>\n      <td>0</td>\n      <td>0</td>\n      <td>0</td>\n      <td>0</td>\n      <td>1</td>\n      <td>0</td>\n      <td>0</td>\n      <td>0</td>\n    </tr>\n    <tr>\n      <th>1</th>\n      <td>2018</td>\n      <td>7</td>\n      <td>51</td>\n      <td>0</td>\n      <td>1</td>\n      <td>0</td>\n      <td>1</td>\n      <td>0</td>\n      <td>1</td>\n      <td>0</td>\n      <td>...</td>\n      <td>0</td>\n      <td>0</td>\n      <td>0</td>\n      <td>0</td>\n      <td>0</td>\n      <td>0</td>\n      <td>1</td>\n      <td>0</td>\n      <td>0</td>\n      <td>0</td>\n    </tr>\n  </tbody>\n</table>\n<p>2 rows × 40 columns</p>\n</div>"
     },
     "metadata": {},
     "execution_count": 47
    }
   ],
   "source": [
    "clean_df_Test.head(2)"
   ]
  },
  {
   "cell_type": "code",
   "execution_count": 99,
   "metadata": {},
   "outputs": [
    {
     "output_type": "execute_result",
     "data": {
      "text/plain": [
       "array([1, 1, 1, ..., 1, 1, 1])"
      ]
     },
     "metadata": {},
     "execution_count": 99
    }
   ],
   "source": [
    "# Get the predicted result for the test Data\n",
    "from sklearn.preprocessing import StandardScaler\n",
    "scaler = StandardScaler()\n",
    "scaler.fit(clean_df_Test)\n",
    "Test.bank_account = GNB.predict(scaler.transform(clean_df_Test))\n",
    "Test.bank_account\n"
   ]
  },
  {
   "source": [
    "# create submission DataFrame\n",
    "sub = pd.DataFrame({'uniqueid': Test['uniqueid'] + \" x \"+ Test['country'], \"bank_account\" : Test.bank_account})\n",
    "sub.info()"
   ],
   "cell_type": "code",
   "metadata": {},
   "execution_count": 100,
   "outputs": [
    {
     "output_type": "stream",
     "name": "stdout",
     "text": [
      "<class 'pandas.core.frame.DataFrame'>\nRangeIndex: 10086 entries, 0 to 10085\nData columns (total 2 columns):\n #   Column        Non-Null Count  Dtype \n---  ------        --------------  ----- \n 0   uniqueid      10086 non-null  object\n 1   bank_account  10086 non-null  int32 \ndtypes: int32(1), object(1)\nmemory usage: 118.3+ KB\n"
     ]
    }
   ]
  },
  {
   "cell_type": "code",
   "execution_count": 101,
   "metadata": {},
   "outputs": [],
   "source": [
    "# Create submission csv file csv file\n",
    "sub.to_csv('sixth_submission.csv',index=False)"
   ]
  },
  {
   "cell_type": "code",
   "execution_count": null,
   "metadata": {},
   "outputs": [],
   "source": []
  }
 ]
}